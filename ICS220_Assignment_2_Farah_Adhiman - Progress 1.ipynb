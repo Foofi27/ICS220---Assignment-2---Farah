{
  "nbformat": 4,
  "nbformat_minor": 0,
  "metadata": {
    "colab": {
      "provenance": []
    },
    "kernelspec": {
      "name": "python3",
      "display_name": "Python 3"
    },
    "language_info": {
      "name": "python"
    }
  },
  "cells": [
    {
      "cell_type": "markdown",
      "source": [
        "# Part B:"
      ],
      "metadata": {
        "id": "Xln4aewvXkKV"
      }
    },
    {
      "cell_type": "code",
      "execution_count": null,
      "metadata": {
        "id": "22QVdvN-4Isc"
      },
      "outputs": [],
      "source": [
        "class Guest:\n",
        "\n",
        "    # Initializing the attributes for the Guest class (private)\n",
        "    def __init__(self, nameofguest, emailguest, guestphonenumber, guestid, guestloyalty):\n",
        "        self.__nameofguest = nameofguest\n",
        "        self.__emailguest = emailguest\n",
        "        self.__guestphonenumber = guestphonenumber\n",
        "        self.__guestid = guestid\n",
        "        self.__guestloyalty = guestloyalty\n",
        "\n",
        "    # Getter methods\n",
        "    def get_nameofguest(self):\n",
        "        return self.__nameofguest\n",
        "\n",
        "    def get_emailguest(self):\n",
        "        return self.__emailguest\n",
        "\n",
        "    def get_guestphonenumber(self):\n",
        "        return self.__guestphonenumber\n",
        "\n",
        "    def get_guestid(self):\n",
        "        return self.__guestid\n",
        "\n",
        "    def get_guestloyalty(self):\n",
        "        return self.__guestloyalty\n",
        "\n",
        "    # Setter methods\n",
        "    def set_nameofguest(self, nameofguest):\n",
        "        self.__nameofguest = nameofguest\n",
        "\n",
        "    def set_emailguest(self, emailguest):\n",
        "        self.__emailguest = emailguest\n",
        "\n",
        "    def set_guestphonenumber(self, guestphonenumber):\n",
        "        self.__guestphonenumber = guestphonenumber\n",
        "\n",
        "    def set_guestloyalty(self, guestloyalty):\n",
        "        self.__guestloyalty = guestloyalty\n",
        "\n",
        "    # Guest actions\n",
        "    def guestcreateaccount(self):\n",
        "        return \"The guest account for\", self.__nameofguest, \"has been created!\"\n",
        "\n",
        "    def updateguestprofile(self):\n",
        "        return \"The guest profile for guest ID:\", self.__guestid, \"has been updated.\"\n",
        "\n",
        "    def guestreservation(self):\n",
        "        return \"Displaying reservation history for guest with ID:\", self.__guestid, \".\"\n",
        "\n",
        "    # String representation\n",
        "    def __str__(self):\n",
        "        return f\"Guest ID: {self.__guestid} - Name: {self.__nameofguest} - Email: {self.__emailguest} - Phone: {self.__guestphonenumber} - Loyalty: {self.__guestloyalty}\""
      ]
    }
  ]
}